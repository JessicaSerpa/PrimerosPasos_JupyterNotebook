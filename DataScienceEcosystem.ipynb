{
 "cells": [
  {
   "cell_type": "markdown",
   "id": "72fa1abb-cdf1-49d8-9275-8c6a3e7f4f73",
   "metadata": {},
   "source": [
    "# Data Science Tools and Ecosystem"
   ]
  },
  {
   "cell_type": "markdown",
   "id": "d1273e63-421e-482f-93f5-e652b18b74d6",
   "metadata": {},
   "source": [
    "_En este cuaderno, se resumen las herramientas y ecosistemas de ciencia de datos._"
   ]
  },
  {
   "cell_type": "markdown",
   "id": "9dd0f951-218d-454c-8b8a-a190311e1bb6",
   "metadata": {},
   "source": [
    "**Objetivos**\n",
    "* Lenguajes populares\n",
    "* Bibliotecas cmúnmente utilizadas\n",
    "* Herramientas para la ciencia de datos\n",
    "* Evaluación de expresiones matemáticas"
   ]
  },
  {
   "cell_type": "markdown",
   "id": "f04a5d44-8853-4e91-b49a-8b8e2ca19596",
   "metadata": {},
   "source": [
    "#### Algunos de los lenguajes populares que utilizan los científicos de datos son:\n",
    "1. Python\n",
    "2. R\n",
    "3. Julia"
   ]
  },
  {
   "cell_type": "markdown",
   "id": "d2d210d7-c905-4915-829c-766041591912",
   "metadata": {},
   "source": [
    "#### Algunas de las bibliotecas comúnmente utilizadas por los científicos de datos incluyen:\n",
    "1. Matplotlib\n",
    "2. Pandas\n",
    "3. Seaborn"
   ]
  },
  {
   "cell_type": "markdown",
   "id": "7676afc5-35d0-4978-b74f-180c91e73b63",
   "metadata": {},
   "source": [
    "| Herramientas de Ciencia de Datos |\n",
    "|----------------------------------| \n",
    "|Google Colab|\n",
    "|Jupyter Notebook|\n",
    "|RStudio|"
   ]
  },
  {
   "cell_type": "markdown",
   "id": "e2065fa1-642e-47af-9b3e-e8067251ac32",
   "metadata": {},
   "source": [
    "### A continuación, se presentan algunos ejemplos de evaluación de expresiones aritméticas en Python"
   ]
  },
  {
   "cell_type": "code",
   "execution_count": 22,
   "id": "925bd239-c887-4cba-9b05-10ca5921ea9d",
   "metadata": {},
   "outputs": [
    {
     "data": {
      "text/plain": [
       "17"
      ]
     },
     "execution_count": 22,
     "metadata": {},
     "output_type": "execute_result"
    }
   ],
   "source": [
    "#Esta es una expresión aritmética simple para multiplicar y luego sumar enteros\n",
    "(3*4)+5"
   ]
  },
  {
   "cell_type": "code",
   "execution_count": 24,
   "id": "c862ed96-91e2-496d-9e2a-1ac0c6ba00e4",
   "metadata": {},
   "outputs": [
    {
     "data": {
      "text/plain": [
       "3.3333333333333335"
      ]
     },
     "execution_count": 24,
     "metadata": {},
     "output_type": "execute_result"
    }
   ],
   "source": [
    "#Esto convertirá 200 minutos a horas dividiendo por 60\n",
    "200/60"
   ]
  },
  {
   "cell_type": "markdown",
   "id": "184cbb6a-4fa8-45a7-8770-b08d99003f38",
   "metadata": {},
   "source": [
    "## Autor\n",
    "Jessica Serpa"
   ]
  }
 ],
 "metadata": {
  "kernelspec": {
   "display_name": "Python 3 (ipykernel)",
   "language": "python",
   "name": "python3"
  },
  "language_info": {
   "codemirror_mode": {
    "name": "ipython",
    "version": 3
   },
   "file_extension": ".py",
   "mimetype": "text/x-python",
   "name": "python",
   "nbconvert_exporter": "python",
   "pygments_lexer": "ipython3",
   "version": "3.11.4"
  }
 },
 "nbformat": 4,
 "nbformat_minor": 5
}
